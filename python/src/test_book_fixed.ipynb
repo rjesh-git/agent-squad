{
 "cells": [
  {
   "cell_type": "code",
   "execution_count": 1,
   "id": "a7b4845e",
   "metadata": {},
   "outputs": [],
   "source": [
    "import os\n",
    "os.environ[\"AWS_PROFILE\"]=\"isengard\""
   ]
  },
  {
   "cell_type": "code",
   "execution_count": 2,
   "id": "dbc10141",
   "metadata": {},
   "outputs": [],
   "source": [
    "import uuid\n",
    "import asyncio\n",
    "from typing import Optional, List, Dict, Any\n",
    "import json\n",
    "import sys\n",
    "\n",
    "\n",
    "from agent_squad.orchestrator import AgentSquad, AgentSquadConfig\n",
    "from agent_squad.agents import (BedrockLLMAgent,\n",
    "                        BedrockLLMAgentOptions,\n",
    "                        AgentResponse,\n",
    "                        AnthropicAgent, AnthropicAgentOptions,\n",
    "                        AgentCallbacks)\n",
    "from agent_squad.types import ConversationMessage, ParticipantRole\n",
    "from agent_squad.classifiers import BedrockClassifier, BedrockClassifierOptions\n",
    "\n",
    "\n",
    "class LLMAgentCallbacks(AgentCallbacks):\n",
    "    async def on_llm_new_token(self, token: str, **kwargs) -> None:\n",
    "        # handle response streaming here\n",
    "        print(token, end='', flush=True)"
   ]
  },
  {
   "cell_type": "code",
   "execution_count": 3,
   "id": "2050b4fd",
   "metadata": {},
   "outputs": [],
   "source": [
    "# Initialize the orchestrator with some options\n",
    "orchestrator = AgentSquad(\n",
    "    options=AgentSquadConfig(\n",
    "        LOG_AGENT_CHAT=True,\n",
    "        LOG_CLASSIFIER_CHAT=True,\n",
    "        LOG_CLASSIFIER_RAW_OUTPUT=True,\n",
    "        LOG_CLASSIFIER_OUTPUT=True,\n",
    "        LOG_EXECUTION_TIMES=True,\n",
    "        MAX_RETRIES=3,\n",
    "        USE_DEFAULT_AGENT_IF_NONE_IDENTIFIED=True,\n",
    "        MAX_MESSAGE_PAIRS_PER_AGENT=10,\n",
    "    )\n",
    ")\n",
    "\n",
    "# Add some agents\n",
    "tech_agent = BedrockLLMAgent(\n",
    "    BedrockLLMAgentOptions(\n",
    "        name=\"Tech Agent\",\n",
    "        streaming=True,\n",
    "        description=\"Specializes in technology areas including software development, hardware, AI, \\\n",
    "        cybersecurity, blockchain, cloud computing, emerging tech innovations, and pricing/costs \\\n",
    "        related to technology products and services.\",\n",
    "        model_id=\"us.anthropic.claude-3-7-sonnet-20250219-v1:0\",\n",
    "        callbacks=LLMAgentCallbacks(),\n",
    "        inference_config={\"maxTokens\": 2500, \"temperature\": 1},\n",
    "        reasoning_config={\"thinking\": {\"type\": \"enabled\", \"budget_tokens\": 2000}},\n",
    "    )\n",
    ")\n",
    "orchestrator.add_agent(tech_agent)\n"
   ]
  },
  {
   "cell_type": "code",
   "execution_count": 4,
   "id": "ab9a1761",
   "metadata": {},
   "outputs": [],
   "source": [
    "import asyncio\n",
    "\n",
    "\n",
    "async def handle_request(_orchestrator: AgentSquad, _user_input: str, _user_id: str, _session_id: str):\n",
    "    try:\n",
    "        response: AgentResponse = await _orchestrator.route_request(_user_input, _user_id, _session_id)\n",
    "\n",
    "        # Print metadata\n",
    "        print(\"\\nMetadata:\")\n",
    "        print(f\"Selected Agent: {response.metadata.agent_name}\")\n",
    "        if isinstance(response, AgentResponse) and response.streaming is False:\n",
    "            # Handle regular response\n",
    "            if isinstance(response.output, str):\n",
    "                print(response.output)\n",
    "            elif isinstance(response.output, ConversationMessage):\n",
    "                print(response.output.content[0].get(\"text\"))\n",
    "        return response\n",
    "    except Exception as e:\n",
    "        print(f\"Error in handle_request: {str(e)}\")\n",
    "        return None"
   ]
  },
  {
   "cell_type": "code",
   "execution_count": 5,
   "id": "2daeb0ac",
   "metadata": {},
   "outputs": [
    {
     "name": "stderr",
     "output_type": "stream",
     "text": [
      "INFO:agent_squad.utils.logger:\n",
      "** CLASSIFIED INTENT **\n",
      "INFO:agent_squad.utils.logger:=======================\n",
      "INFO:agent_squad.utils.logger:> Text: what is blockchain\n",
      "INFO:agent_squad.utils.logger:> Selected Agent: Tech Agent\n",
      "INFO:agent_squad.utils.logger:> Confidence: 0.95\n",
      "INFO:agent_squad.utils.logger:\n",
      "INFO:agent_squad.utils.logger:\n",
      "** AGENT TECH-AGENT CHAT HISTORY **\n",
      "INFO:agent_squad.utils.logger:===================================\n",
      "INFO:agent_squad.utils.logger:> - None -\n",
      "INFO:agent_squad.utils.logger:\n"
     ]
    },
    {
     "name": "stdout",
     "output_type": "stream",
     "text": [
      "# Blockchain: A Decentralized Digital Ledger Technology\n",
      "\n",
      "Blockchain is a distributed database or ledger technology that allows multiple participants in a network to maintain identical, shared records that are secured through cryptography.\n",
      "\n",
      "## Core Characteristics\n",
      "\n",
      "- **Decentralized**: No single entity controls the entire network; instead, data is distributed across multiple nodes (computers)\n",
      "- **Immutable**: Once information is recorded, it cannot be altered retroactively without altering all subsequent blocks\n",
      "- **Transparent**: Transactions are visible to all participants in the network\n",
      "- **Secure**: Uses cryptographic techniques to protect data integrity\n",
      "\n",
      "## How It Works\n",
      "\n",
      "Blockchain consists of a chain of \"blocks\" containing batches of transactions. Each block includes:\n",
      "- Transaction data\n",
      "- A timestamp\n",
      "- A cryptographic hash of the previous block (creating the chain)\n",
      "\n",
      "When new transactions occur, they're verified by network nodes through a consensus mechanism (like Proof of Work or Proof of Stake) before being added as a new block.\n",
      "\n",
      "## Common Applications\n",
      "\n",
      "- Cryptocurrencies (Bitcoin, Ethereum)\n",
      "- Smart contracts (self-executing contracts with terms written in code)\n",
      "- Supply chain tracking\n",
      "- Digital identity verification\n",
      "- Decentralized finance (DeFi)\n",
      "\n",
      "Would you like me to explore any particular aspect of blockchain technology in more detail?"
     ]
    },
    {
     "name": "stderr",
     "output_type": "stream",
     "text": [
      "INFO:agent_squad.utils.logger:\n",
      "** EXECUTION TIMES **\n",
      "INFO:agent_squad.utils.logger:=====================\n",
      "INFO:agent_squad.utils.logger:> Classifying user intent: 2.051745891571045s\n",
      "INFO:agent_squad.utils.logger:> Agent Tech Agent | Processing request: 0.0001239776611328125s\n",
      "INFO:agent_squad.utils.logger:\n"
     ]
    },
    {
     "name": "stdout",
     "output_type": "stream",
     "text": [
      "\n",
      "Metadata:\n",
      "Selected Agent: Tech Agent\n",
      "\n",
      "Response:\n",
      "AgentResponse(metadata=AgentProcessingResult(user_input='what is blockchain', agent_id='tech-agent', agent_name='Tech Agent', user_id='user123', session_id='a99b4dce-21a3-4503-9cb0-23ea75d26d2b', additional_params={}), output=<agent_squad.types.types.ConversationMessage object at 0x122be16e0>, streaming=True)\n"
     ]
    }
   ],
   "source": [
    "import uuid\n",
    "import asyncio\n",
    "import nest_asyncio\n",
    "\n",
    "USER_ID = \"user123\"\n",
    "SESSION_ID = str(uuid.uuid4())\n",
    "\n",
    "nest_asyncio.apply()\n",
    "\n",
    "user_input = \"what is blockchain\"\n",
    "\n",
    "\n",
    "# Run the async function\n",
    "loop = asyncio.get_event_loop()\n",
    "response = loop.run_until_complete(handle_request(orchestrator, user_input, USER_ID, SESSION_ID))\n",
    "print(f\"\\nResponse:\\n{response}\")\n"
   ]
  }
 ],
 "metadata": {
  "kernelspec": {
   "display_name": ".venv",
   "language": "python",
   "name": "python3"
  },
  "language_info": {
   "codemirror_mode": {
    "name": "ipython",
    "version": 3
   },
   "file_extension": ".py",
   "mimetype": "text/x-python",
   "name": "python",
   "nbconvert_exporter": "python",
   "pygments_lexer": "ipython3",
   "version": "3.13.3"
  }
 },
 "nbformat": 4,
 "nbformat_minor": 5
}
